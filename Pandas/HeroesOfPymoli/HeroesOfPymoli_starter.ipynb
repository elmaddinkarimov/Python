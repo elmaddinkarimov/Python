{
 "cells": [
  {
   "cell_type": "markdown",
   "metadata": {},
   "source": [
    "### Heroes Of Pymoli Data Analysis\n",
    "* Of the 1163 active players, the vast majority are male (84%). There also exists, a smaller, but notable proportion of female players (14%).\n",
    "\n",
    "* Our peak age demographic falls between 20-24 (44.8%) with secondary groups falling between 15-19 (18.60%) and 25-29 (13.4%).  \n",
    "-----"
   ]
  },
  {
   "cell_type": "markdown",
   "metadata": {},
   "source": [
    "### Note\n",
    "* Instructions have been included for each segment. You do not have to follow them exactly, but they are included to help you think through the steps."
   ]
  },
  {
   "cell_type": "code",
   "execution_count": 2,
   "metadata": {},
   "outputs": [
    {
     "data": {
      "text/html": [
       "<div>\n",
       "<style scoped>\n",
       "    .dataframe tbody tr th:only-of-type {\n",
       "        vertical-align: middle;\n",
       "    }\n",
       "\n",
       "    .dataframe tbody tr th {\n",
       "        vertical-align: top;\n",
       "    }\n",
       "\n",
       "    .dataframe thead th {\n",
       "        text-align: right;\n",
       "    }\n",
       "</style>\n",
       "<table border=\"1\" class=\"dataframe\">\n",
       "  <thead>\n",
       "    <tr style=\"text-align: right;\">\n",
       "      <th></th>\n",
       "      <th>Purchase ID</th>\n",
       "      <th>SN</th>\n",
       "      <th>Age</th>\n",
       "      <th>Gender</th>\n",
       "      <th>Item ID</th>\n",
       "      <th>Item Name</th>\n",
       "      <th>Price</th>\n",
       "    </tr>\n",
       "  </thead>\n",
       "  <tbody>\n",
       "    <tr>\n",
       "      <th>0</th>\n",
       "      <td>0</td>\n",
       "      <td>Lisim78</td>\n",
       "      <td>20</td>\n",
       "      <td>Male</td>\n",
       "      <td>108</td>\n",
       "      <td>Extraction, Quickblade Of Trembling Hands</td>\n",
       "      <td>3.53</td>\n",
       "    </tr>\n",
       "    <tr>\n",
       "      <th>1</th>\n",
       "      <td>1</td>\n",
       "      <td>Lisovynya38</td>\n",
       "      <td>40</td>\n",
       "      <td>Male</td>\n",
       "      <td>143</td>\n",
       "      <td>Frenzied Scimitar</td>\n",
       "      <td>1.56</td>\n",
       "    </tr>\n",
       "    <tr>\n",
       "      <th>2</th>\n",
       "      <td>2</td>\n",
       "      <td>Ithergue48</td>\n",
       "      <td>24</td>\n",
       "      <td>Male</td>\n",
       "      <td>92</td>\n",
       "      <td>Final Critic</td>\n",
       "      <td>4.88</td>\n",
       "    </tr>\n",
       "    <tr>\n",
       "      <th>3</th>\n",
       "      <td>3</td>\n",
       "      <td>Chamassasya86</td>\n",
       "      <td>24</td>\n",
       "      <td>Male</td>\n",
       "      <td>100</td>\n",
       "      <td>Blindscythe</td>\n",
       "      <td>3.27</td>\n",
       "    </tr>\n",
       "    <tr>\n",
       "      <th>4</th>\n",
       "      <td>4</td>\n",
       "      <td>Iskosia90</td>\n",
       "      <td>23</td>\n",
       "      <td>Male</td>\n",
       "      <td>131</td>\n",
       "      <td>Fury</td>\n",
       "      <td>1.44</td>\n",
       "    </tr>\n",
       "  </tbody>\n",
       "</table>\n",
       "</div>"
      ],
      "text/plain": [
       "   Purchase ID             SN  Age Gender  Item ID  \\\n",
       "0            0        Lisim78   20   Male      108   \n",
       "1            1    Lisovynya38   40   Male      143   \n",
       "2            2     Ithergue48   24   Male       92   \n",
       "3            3  Chamassasya86   24   Male      100   \n",
       "4            4      Iskosia90   23   Male      131   \n",
       "\n",
       "                                   Item Name  Price  \n",
       "0  Extraction, Quickblade Of Trembling Hands   3.53  \n",
       "1                          Frenzied Scimitar   1.56  \n",
       "2                               Final Critic   4.88  \n",
       "3                                Blindscythe   3.27  \n",
       "4                                       Fury   1.44  "
      ]
     },
     "execution_count": 2,
     "metadata": {},
     "output_type": "execute_result"
    }
   ],
   "source": [
    "# Dependencies and Setup\n",
    "import pandas as pd\n",
    "import numpy as np\n",
    "\n",
    "# File to Load (Remember to Change These)\n",
    "file_to_load = \"Resources/purchase_data.csv\"\n",
    "\n",
    "# Read Purchasing File and store into Pandas data frame\n",
    "purchase_data = pd.read_csv(file_to_load)\n",
    "purchase_data.head()\n",
    "\n"
   ]
  },
  {
   "cell_type": "markdown",
   "metadata": {},
   "source": [
    "## Player Count"
   ]
  },
  {
   "cell_type": "markdown",
   "metadata": {},
   "source": [
    "* Display the total number of players\n"
   ]
  },
  {
   "cell_type": "code",
   "execution_count": 3,
   "metadata": {},
   "outputs": [
    {
     "data": {
      "text/html": [
       "<div>\n",
       "<style scoped>\n",
       "    .dataframe tbody tr th:only-of-type {\n",
       "        vertical-align: middle;\n",
       "    }\n",
       "\n",
       "    .dataframe tbody tr th {\n",
       "        vertical-align: top;\n",
       "    }\n",
       "\n",
       "    .dataframe thead th {\n",
       "        text-align: right;\n",
       "    }\n",
       "</style>\n",
       "<table border=\"1\" class=\"dataframe\">\n",
       "  <thead>\n",
       "    <tr style=\"text-align: right;\">\n",
       "      <th></th>\n",
       "      <th>Total Players</th>\n",
       "    </tr>\n",
       "  </thead>\n",
       "  <tbody>\n",
       "    <tr>\n",
       "      <th>0</th>\n",
       "      <td>576</td>\n",
       "    </tr>\n",
       "  </tbody>\n",
       "</table>\n",
       "</div>"
      ],
      "text/plain": [
       "   Total Players\n",
       "0            576"
      ]
     },
     "execution_count": 3,
     "metadata": {},
     "output_type": "execute_result"
    }
   ],
   "source": [
    "total_players= {'Total Players':[len(purchase_data['SN'].value_counts())]}\n",
    "total_players1 = pd.DataFrame(total_players)\n",
    "total_players1"
   ]
  },
  {
   "cell_type": "markdown",
   "metadata": {},
   "source": [
    "## Purchasing Analysis (Total)"
   ]
  },
  {
   "cell_type": "markdown",
   "metadata": {},
   "source": [
    "* Run basic calculations to obtain number of unique items, average price, etc.\n",
    "\n",
    "\n",
    "* Create a summary data frame to hold the results\n",
    "\n",
    "\n",
    "* Optional: give the displayed data cleaner formatting\n",
    "\n",
    "\n",
    "* Display the summary data frame\n"
   ]
  },
  {
   "cell_type": "code",
   "execution_count": 4,
   "metadata": {},
   "outputs": [
    {
     "data": {
      "text/plain": [
       "183"
      ]
     },
     "execution_count": 4,
     "metadata": {},
     "output_type": "execute_result"
    }
   ],
   "source": [
    "#Number of Unique Items\n",
    "Unique_Items = purchase_data['Item ID'].nunique()\n",
    "Unique_Items"
   ]
  },
  {
   "cell_type": "code",
   "execution_count": 5,
   "metadata": {},
   "outputs": [
    {
     "data": {
      "text/plain": [
       "3.050987179487176"
      ]
     },
     "execution_count": 5,
     "metadata": {},
     "output_type": "execute_result"
    }
   ],
   "source": [
    "#Average  Price\n",
    "Av_Price = purchase_data['Price'].mean()\n",
    "Av_Price "
   ]
  },
  {
   "cell_type": "code",
   "execution_count": 6,
   "metadata": {},
   "outputs": [
    {
     "data": {
      "text/plain": [
       "780"
      ]
     },
     "execution_count": 6,
     "metadata": {},
     "output_type": "execute_result"
    }
   ],
   "source": [
    "#Number of purchase\n",
    "Number_of_purchases=purchase_data[\"Purchase ID\"].count()\n",
    "Number_of_purchases"
   ]
  },
  {
   "cell_type": "code",
   "execution_count": 7,
   "metadata": {},
   "outputs": [
    {
     "data": {
      "text/plain": [
       "2379.77"
      ]
     },
     "execution_count": 7,
     "metadata": {},
     "output_type": "execute_result"
    }
   ],
   "source": [
    "#Total Revenue\n",
    "Total_rev =purchase_data['Price'].sum()\n",
    "Total_rev"
   ]
  },
  {
   "cell_type": "code",
   "execution_count": 8,
   "metadata": {
    "scrolled": true
   },
   "outputs": [
    {
     "data": {
      "text/html": [
       "<style  type=\"text/css\" >\n",
       "</style>  \n",
       "<table id=\"T_47afa652_363d_11e9_9ce8_7c2a31b2fd53\" > \n",
       "<thead>    <tr> \n",
       "        <th class=\"blank level0\" ></th> \n",
       "        <th class=\"col_heading level0 col0\" >Number of Unique Items</th> \n",
       "        <th class=\"col_heading level0 col1\" >Average Price</th> \n",
       "        <th class=\"col_heading level0 col2\" >Number of Purchases</th> \n",
       "        <th class=\"col_heading level0 col3\" >Total Revenue</th> \n",
       "    </tr></thead> \n",
       "<tbody>    <tr> \n",
       "        <th id=\"T_47afa652_363d_11e9_9ce8_7c2a31b2fd53level0_row0\" class=\"row_heading level0 row0\" >0</th> \n",
       "        <td id=\"T_47afa652_363d_11e9_9ce8_7c2a31b2fd53row0_col0\" class=\"data row0 col0\" >183</td> \n",
       "        <td id=\"T_47afa652_363d_11e9_9ce8_7c2a31b2fd53row0_col1\" class=\"data row0 col1\" >$3.05</td> \n",
       "        <td id=\"T_47afa652_363d_11e9_9ce8_7c2a31b2fd53row0_col2\" class=\"data row0 col2\" >780</td> \n",
       "        <td id=\"T_47afa652_363d_11e9_9ce8_7c2a31b2fd53row0_col3\" class=\"data row0 col3\" >$2,379.77</td> \n",
       "    </tr></tbody> \n",
       "</table> "
      ],
      "text/plain": [
       "<pandas.io.formats.style.Styler at 0x1f2a1c25c18>"
      ]
     },
     "execution_count": 8,
     "metadata": {},
     "output_type": "execute_result"
    }
   ],
   "source": [
    "#Purchasing Analysis (Total)\n",
    "Purchasing_Analysis= {\"Number of Unique Items\":[Unique_Items],\"Average Price\":[Av_Price],\"Number of Purchases\": [Number_of_purchases],\n",
    "                     \"Total Revenue\":[Total_rev]}\n",
    "Purchasing_Analysis1 =pd.DataFrame(Purchasing_Analysis)\n",
    "Purchasing_Analysis1=Purchasing_Analysis1.style.format({\"Average Price\":\"${:,.2f}\",\"Total Revenue\":\"${:,.2f}\"})\n",
    "Purchasing_Analysis1\n"
   ]
  },
  {
   "cell_type": "markdown",
   "metadata": {},
   "source": [
    "## Gender Demographics"
   ]
  },
  {
   "cell_type": "markdown",
   "metadata": {},
   "source": [
    "* Percentage and Count of Male Players\n",
    "\n",
    "\n",
    "* Percentage and Count of Female Players\n",
    "\n",
    "\n",
    "* Percentage and Count of Other / Non-Disclosed\n",
    "\n",
    "\n"
   ]
  },
  {
   "cell_type": "code",
   "execution_count": 9,
   "metadata": {},
   "outputs": [
    {
     "data": {
      "text/plain": [
       "576"
      ]
     },
     "execution_count": 9,
     "metadata": {},
     "output_type": "execute_result"
    }
   ],
   "source": [
    "# Total Count\n",
    "total_count = len(purchase_data['SN'].unique())\n",
    "total_count"
   ]
  },
  {
   "cell_type": "code",
   "execution_count": 10,
   "metadata": {},
   "outputs": [
    {
     "name": "stdout",
     "output_type": "stream",
     "text": [
      "81\n",
      "14.06\n"
     ]
    }
   ],
   "source": [
    "Female1= purchase_data.groupby(['Gender']).get_group(('Female'))\n",
    "Female2= len(Female1['SN'].unique())\n",
    "Female_Percent= round((Female2/total_count)*100,2)\n",
    "print(Female2)\n",
    "print(Female_Percent)"
   ]
  },
  {
   "cell_type": "code",
   "execution_count": 11,
   "metadata": {},
   "outputs": [
    {
     "name": "stdout",
     "output_type": "stream",
     "text": [
      "484\n",
      "84.03\n"
     ]
    }
   ],
   "source": [
    "Male1= purchase_data.groupby(['Gender']).get_group(('Male'))\n",
    "Male2= len(Male1['SN'].unique())\n",
    "Male_Percent= round((Male2/total_count)*100,2)\n",
    "print(Male2)\n",
    "print(Male_Percent)"
   ]
  },
  {
   "cell_type": "code",
   "execution_count": 12,
   "metadata": {},
   "outputs": [
    {
     "name": "stdout",
     "output_type": "stream",
     "text": [
      "11\n",
      "1.91\n"
     ]
    }
   ],
   "source": [
    "Other1= purchase_data.groupby(['Gender']).get_group(('Other / Non-Disclosed'))\n",
    "Other2= len(Other1['SN'].unique())\n",
    "Other_Percent= round((Other2/total_count)*100,2)\n",
    "print(Other2)\n",
    "print(Other_Percent)"
   ]
  },
  {
   "cell_type": "code",
   "execution_count": 13,
   "metadata": {},
   "outputs": [
    {
     "data": {
      "text/html": [
       "<style  type=\"text/css\" >\n",
       "</style>  \n",
       "<table id=\"T_47ba7882_363d_11e9_97e9_7c2a31b2fd53\" > \n",
       "<thead>    <tr> \n",
       "        <th class=\"blank level0\" ></th> \n",
       "        <th class=\"col_heading level0 col0\" >Total Count</th> \n",
       "        <th class=\"col_heading level0 col1\" >Percentage of Players</th> \n",
       "    </tr>    <tr> \n",
       "        <th class=\"index_name level0\" ></th> \n",
       "        <th class=\"blank\" ></th> \n",
       "        <th class=\"blank\" ></th> \n",
       "    </tr></thead> \n",
       "<tbody>    <tr> \n",
       "        <th id=\"T_47ba7882_363d_11e9_97e9_7c2a31b2fd53level0_row0\" class=\"row_heading level0 row0\" >Male</th> \n",
       "        <td id=\"T_47ba7882_363d_11e9_97e9_7c2a31b2fd53row0_col0\" class=\"data row0 col0\" >484</td> \n",
       "        <td id=\"T_47ba7882_363d_11e9_97e9_7c2a31b2fd53row0_col1\" class=\"data row0 col1\" >84.03%</td> \n",
       "    </tr>    <tr> \n",
       "        <th id=\"T_47ba7882_363d_11e9_97e9_7c2a31b2fd53level0_row1\" class=\"row_heading level0 row1\" >Female</th> \n",
       "        <td id=\"T_47ba7882_363d_11e9_97e9_7c2a31b2fd53row1_col0\" class=\"data row1 col0\" >81</td> \n",
       "        <td id=\"T_47ba7882_363d_11e9_97e9_7c2a31b2fd53row1_col1\" class=\"data row1 col1\" >14.06%</td> \n",
       "    </tr>    <tr> \n",
       "        <th id=\"T_47ba7882_363d_11e9_97e9_7c2a31b2fd53level0_row2\" class=\"row_heading level0 row2\" >Other / Non-Disclosed</th> \n",
       "        <td id=\"T_47ba7882_363d_11e9_97e9_7c2a31b2fd53row2_col0\" class=\"data row2 col0\" >11</td> \n",
       "        <td id=\"T_47ba7882_363d_11e9_97e9_7c2a31b2fd53row2_col1\" class=\"data row2 col1\" >1.91%</td> \n",
       "    </tr></tbody> \n",
       "</table> "
      ],
      "text/plain": [
       "<pandas.io.formats.style.Styler at 0x1f2a2af6588>"
      ]
     },
     "execution_count": 13,
     "metadata": {},
     "output_type": "execute_result"
    }
   ],
   "source": [
    "gender1 = {'':[\"Male\",'Female','Other / Non-Disclosed'],'Total Count':[Male2,Female2,Other2],\n",
    "                             'Percentage of Players':[Male_Percent,Female_Percent,Other_Percent]}\n",
    "gender2 =  pd.DataFrame(gender1)\n",
    "gender2= gender2.set_index('')\n",
    "gender2=gender2.style.format({'Percentage of Players':\"{:,.2f}%\"})\n",
    "gender2"
   ]
  },
  {
   "cell_type": "markdown",
   "metadata": {},
   "source": [
    "\n",
    "## Purchasing Analysis (Gender)"
   ]
  },
  {
   "cell_type": "markdown",
   "metadata": {},
   "source": [
    "* Run basic calculations to obtain purchase count, avg. purchase price, avg. purchase total per person etc. by gender\n",
    "\n",
    "\n",
    "\n",
    "\n",
    "* Create a summary data frame to hold the results\n",
    "\n",
    "\n",
    "* Optional: give the displayed data cleaner formatting\n",
    "\n",
    "\n",
    "* Display the summary data frame"
   ]
  },
  {
   "cell_type": "code",
   "execution_count": 14,
   "metadata": {},
   "outputs": [
    {
     "name": "stdout",
     "output_type": "stream",
     "text": [
      "113\n",
      "652\n",
      "15\n"
     ]
    }
   ],
   "source": [
    "Female_Purchase_Count=len(Female1['SN'])\n",
    "Male_Purchase_Count=len(Male1['SN'])\n",
    "Other_Purchase_Count=len(Other1['SN'])\n",
    "\n",
    "print(Female_Purchase_Count)\n",
    "print(Male_Purchase_Count)\n",
    "print(Other_Purchase_Count)"
   ]
  },
  {
   "cell_type": "code",
   "execution_count": 15,
   "metadata": {},
   "outputs": [
    {
     "name": "stdout",
     "output_type": "stream",
     "text": [
      "3.203008849557522\n",
      "3.0178527607361967\n",
      "3.3459999999999996\n"
     ]
    }
   ],
   "source": [
    "Female_Avg_Price= (Female1[\"Price\"].sum())/len(Female1[\"Price\"])\n",
    "Male_Avg_Price =(Male1[\"Price\"].sum())/len(Male1[\"Price\"])\n",
    "Other_Avg_Price=(Other1[\"Price\"].sum())/len(Other1[\"Price\"])\n",
    "\n",
    "print(Female_Avg_Price)\n",
    "print(Male_Avg_Price)\n",
    "print(Other_Avg_Price)"
   ]
  },
  {
   "cell_type": "code",
   "execution_count": 16,
   "metadata": {},
   "outputs": [
    {
     "name": "stdout",
     "output_type": "stream",
     "text": [
      "361.94\n",
      "1967.64\n",
      "50.19\n"
     ]
    }
   ],
   "source": [
    "Female_Total_Purchase = Female1['Price'].sum()\n",
    "Male_Total_Purchase = Male1['Price'].sum()\n",
    "Other_Total_Purchase = Other1['Price'].sum()\n",
    "\n",
    "print(Female_Total_Purchase)\n",
    "print(Male_Total_Purchase)\n",
    "print(Other_Total_Purchase)"
   ]
  },
  {
   "cell_type": "code",
   "execution_count": 17,
   "metadata": {},
   "outputs": [
    {
     "name": "stdout",
     "output_type": "stream",
     "text": [
      "4.468395061728395\n",
      "4.065371900826446\n",
      "4.5627272727272725\n"
     ]
    }
   ],
   "source": [
    "Per_Female_Avg =Female_Total_Purchase/Female2\n",
    "Per_Male_Avg = Male_Total_Purchase/Male2\n",
    "Per_Other_Avg = Other_Total_Purchase/Other2\n",
    "\n",
    "print(Per_Female_Avg)\n",
    "print(Per_Male_Avg)\n",
    "print(Per_Other_Avg)"
   ]
  },
  {
   "cell_type": "code",
   "execution_count": 18,
   "metadata": {},
   "outputs": [
    {
     "data": {
      "text/html": [
       "<style  type=\"text/css\" >\n",
       "</style>  \n",
       "<table id=\"T_48d805cc_363d_11e9_9007_7c2a31b2fd53\" > \n",
       "<thead>    <tr> \n",
       "        <th class=\"blank level0\" ></th> \n",
       "        <th class=\"col_heading level0 col0\" >Purchase Count</th> \n",
       "        <th class=\"col_heading level0 col1\" >Average Purchase Price</th> \n",
       "        <th class=\"col_heading level0 col2\" >Total Purchase Value</th> \n",
       "        <th class=\"col_heading level0 col3\" >Avg Total Purchase per Person</th> \n",
       "    </tr>    <tr> \n",
       "        <th class=\"index_name level0\" >Gender</th> \n",
       "        <th class=\"blank\" ></th> \n",
       "        <th class=\"blank\" ></th> \n",
       "        <th class=\"blank\" ></th> \n",
       "        <th class=\"blank\" ></th> \n",
       "    </tr></thead> \n",
       "<tbody>    <tr> \n",
       "        <th id=\"T_48d805cc_363d_11e9_9007_7c2a31b2fd53level0_row0\" class=\"row_heading level0 row0\" >Female</th> \n",
       "        <td id=\"T_48d805cc_363d_11e9_9007_7c2a31b2fd53row0_col0\" class=\"data row0 col0\" >113</td> \n",
       "        <td id=\"T_48d805cc_363d_11e9_9007_7c2a31b2fd53row0_col1\" class=\"data row0 col1\" >$3.20</td> \n",
       "        <td id=\"T_48d805cc_363d_11e9_9007_7c2a31b2fd53row0_col2\" class=\"data row0 col2\" >$361.94</td> \n",
       "        <td id=\"T_48d805cc_363d_11e9_9007_7c2a31b2fd53row0_col3\" class=\"data row0 col3\" >$4.47</td> \n",
       "    </tr>    <tr> \n",
       "        <th id=\"T_48d805cc_363d_11e9_9007_7c2a31b2fd53level0_row1\" class=\"row_heading level0 row1\" >Male</th> \n",
       "        <td id=\"T_48d805cc_363d_11e9_9007_7c2a31b2fd53row1_col0\" class=\"data row1 col0\" >652</td> \n",
       "        <td id=\"T_48d805cc_363d_11e9_9007_7c2a31b2fd53row1_col1\" class=\"data row1 col1\" >$3.02</td> \n",
       "        <td id=\"T_48d805cc_363d_11e9_9007_7c2a31b2fd53row1_col2\" class=\"data row1 col2\" >$1967.64</td> \n",
       "        <td id=\"T_48d805cc_363d_11e9_9007_7c2a31b2fd53row1_col3\" class=\"data row1 col3\" >$4.07</td> \n",
       "    </tr>    <tr> \n",
       "        <th id=\"T_48d805cc_363d_11e9_9007_7c2a31b2fd53level0_row2\" class=\"row_heading level0 row2\" >Other / Non-Disclosed</th> \n",
       "        <td id=\"T_48d805cc_363d_11e9_9007_7c2a31b2fd53row2_col0\" class=\"data row2 col0\" >15</td> \n",
       "        <td id=\"T_48d805cc_363d_11e9_9007_7c2a31b2fd53row2_col1\" class=\"data row2 col1\" >$3.35</td> \n",
       "        <td id=\"T_48d805cc_363d_11e9_9007_7c2a31b2fd53row2_col2\" class=\"data row2 col2\" >$50.19</td> \n",
       "        <td id=\"T_48d805cc_363d_11e9_9007_7c2a31b2fd53row2_col3\" class=\"data row2 col3\" >$4.56</td> \n",
       "    </tr></tbody> \n",
       "</table> "
      ],
      "text/plain": [
       "<pandas.io.formats.style.Styler at 0x1f2a2b3f6d8>"
      ]
     },
     "execution_count": 18,
     "metadata": {},
     "output_type": "execute_result"
    }
   ],
   "source": [
    "Purchase_By_Gender = {\"Gender\":[\"Female\",\"Male\",\"Other / Non-Disclosed\"],\n",
    "                      \"Purchase Count\":[Female_Purchase_Count,Male_Purchase_Count,Other_Purchase_Count], \n",
    "                    \"Average Purchase Price\":[Female_Avg_Price,Male_Avg_Price,Other_Avg_Price],\n",
    "                    \"Total Purchase Value\":[Female_Total_Purchase,Male_Total_Purchase,Other_Total_Purchase],\n",
    "                \"Avg Total Purchase per Person\":[Per_Female_Avg,Per_Male_Avg,Per_Other_Avg]}\n",
    "\n",
    "Purchase_By_Gender1 = pd.DataFrame(Purchase_By_Gender)\n",
    "Purchase_By_Gender1 = Purchase_By_Gender1.set_index(\"Gender\")\n",
    "Purchase_By_Gender1=Purchase_By_Gender1.style.format({\"Average Purchase Price\": \"${:.2f}\",\"Avg Total Purchase per Person\": \"${:.2f}\",\n",
    "                                                     \"Total Purchase Value\": \"${:.2f}\"})\n",
    "\n",
    "Purchase_By_Gender1"
   ]
  },
  {
   "cell_type": "markdown",
   "metadata": {},
   "source": [
    "## Age Demographics"
   ]
  },
  {
   "cell_type": "markdown",
   "metadata": {},
   "source": [
    "* Establish bins for ages\n",
    "\n",
    "\n",
    "* Categorize the existing players using the age bins. Hint: use pd.cut()\n",
    "\n",
    "\n",
    "* Calculate the numbers and percentages by age group\n",
    "\n",
    "\n",
    "* Create a summary data frame to hold the results\n",
    "\n",
    "\n",
    "* Optional: round the percentage column to two decimal points\n",
    "\n",
    "\n",
    "* Display Age Demographics Table\n"
   ]
  },
  {
   "cell_type": "code",
   "execution_count": 18,
   "metadata": {},
   "outputs": [
    {
     "data": {
      "text/plain": [
       "45"
      ]
     },
     "execution_count": 18,
     "metadata": {},
     "output_type": "execute_result"
    }
   ],
   "source": [
    "Max_Age = purchase_data[\"Age\"].max()\n",
    "Max_Age"
   ]
  },
  {
   "cell_type": "code",
   "execution_count": 19,
   "metadata": {},
   "outputs": [
    {
     "data": {
      "text/html": [
       "<div>\n",
       "<style scoped>\n",
       "    .dataframe tbody tr th:only-of-type {\n",
       "        vertical-align: middle;\n",
       "    }\n",
       "\n",
       "    .dataframe tbody tr th {\n",
       "        vertical-align: top;\n",
       "    }\n",
       "\n",
       "    .dataframe thead th {\n",
       "        text-align: right;\n",
       "    }\n",
       "</style>\n",
       "<table border=\"1\" class=\"dataframe\">\n",
       "  <thead>\n",
       "    <tr style=\"text-align: right;\">\n",
       "      <th></th>\n",
       "      <th>Purchase ID</th>\n",
       "      <th>SN</th>\n",
       "      <th>Age</th>\n",
       "      <th>Gender</th>\n",
       "      <th>Item ID</th>\n",
       "      <th>Item Name</th>\n",
       "      <th>Price</th>\n",
       "      <th>Age Summary</th>\n",
       "    </tr>\n",
       "  </thead>\n",
       "  <tbody>\n",
       "    <tr>\n",
       "      <th>0</th>\n",
       "      <td>0</td>\n",
       "      <td>Lisim78</td>\n",
       "      <td>20</td>\n",
       "      <td>Male</td>\n",
       "      <td>108</td>\n",
       "      <td>Extraction, Quickblade Of Trembling Hands</td>\n",
       "      <td>3.53</td>\n",
       "      <td>20-24</td>\n",
       "    </tr>\n",
       "    <tr>\n",
       "      <th>1</th>\n",
       "      <td>1</td>\n",
       "      <td>Lisovynya38</td>\n",
       "      <td>40</td>\n",
       "      <td>Male</td>\n",
       "      <td>143</td>\n",
       "      <td>Frenzied Scimitar</td>\n",
       "      <td>1.56</td>\n",
       "      <td>40+</td>\n",
       "    </tr>\n",
       "    <tr>\n",
       "      <th>2</th>\n",
       "      <td>2</td>\n",
       "      <td>Ithergue48</td>\n",
       "      <td>24</td>\n",
       "      <td>Male</td>\n",
       "      <td>92</td>\n",
       "      <td>Final Critic</td>\n",
       "      <td>4.88</td>\n",
       "      <td>20-24</td>\n",
       "    </tr>\n",
       "    <tr>\n",
       "      <th>3</th>\n",
       "      <td>3</td>\n",
       "      <td>Chamassasya86</td>\n",
       "      <td>24</td>\n",
       "      <td>Male</td>\n",
       "      <td>100</td>\n",
       "      <td>Blindscythe</td>\n",
       "      <td>3.27</td>\n",
       "      <td>20-24</td>\n",
       "    </tr>\n",
       "    <tr>\n",
       "      <th>4</th>\n",
       "      <td>4</td>\n",
       "      <td>Iskosia90</td>\n",
       "      <td>23</td>\n",
       "      <td>Male</td>\n",
       "      <td>131</td>\n",
       "      <td>Fury</td>\n",
       "      <td>1.44</td>\n",
       "      <td>20-24</td>\n",
       "    </tr>\n",
       "  </tbody>\n",
       "</table>\n",
       "</div>"
      ],
      "text/plain": [
       "   Purchase ID             SN  Age Gender  Item ID  \\\n",
       "0            0        Lisim78   20   Male      108   \n",
       "1            1    Lisovynya38   40   Male      143   \n",
       "2            2     Ithergue48   24   Male       92   \n",
       "3            3  Chamassasya86   24   Male      100   \n",
       "4            4      Iskosia90   23   Male      131   \n",
       "\n",
       "                                   Item Name  Price Age Summary  \n",
       "0  Extraction, Quickblade Of Trembling Hands   3.53       20-24  \n",
       "1                          Frenzied Scimitar   1.56         40+  \n",
       "2                               Final Critic   4.88       20-24  \n",
       "3                                Blindscythe   3.27       20-24  \n",
       "4                                       Fury   1.44       20-24  "
      ]
     },
     "execution_count": 19,
     "metadata": {},
     "output_type": "execute_result"
    }
   ],
   "source": [
    "bins = [0,9,14,19,24,29,34,39,46]\n",
    "Age_labels = [\"< 10\",\"10-14\",\"15-19\",\"20-24\",\"25-29\",\"30-34\",\"35-39\",\"40+\"]\n",
    "purchase_data[\"Age Summary\"] = pd.cut(purchase_data[\"Age\"],bins,labels= Age_labels)\n",
    "purchase_data.head()"
   ]
  },
  {
   "cell_type": "code",
   "execution_count": 20,
   "metadata": {},
   "outputs": [
    {
     "name": "stdout",
     "output_type": "stream",
     "text": [
      "17\n",
      "2.951388888888889\n",
      "22\n",
      "3.8194444444444446\n",
      "107\n",
      "18.57638888888889\n",
      "258\n",
      "44.79166666666667\n",
      "77\n",
      "13.368055555555555\n",
      "52\n",
      "9.027777777777777\n",
      "31\n",
      "5.381944444444445\n",
      "12\n",
      "2.083333333333333\n"
     ]
    }
   ],
   "source": [
    "#Purchase Count\n",
    "Bin1 = purchase_data.groupby([\"Age Summary\"]).get_group((\"< 10\"))\n",
    "pc1 = len(Bin1[\"SN\"].unique())\n",
    "Per_Bin1 = (pc1/total_count)*100\n",
    "print(pc1)\n",
    "print(Per_Bin1)\n",
    "\n",
    "Bin2 = purchase_data.groupby([\"Age Summary\"]).get_group((\"10-14\"))\n",
    "pc2 = len(Bin2[\"SN\"].unique())\n",
    "Per_Bin2 = (pc2/total_count)*100\n",
    "print(pc2)\n",
    "print(Per_Bin2)\n",
    "\n",
    "Bin3 = purchase_data.groupby([\"Age Summary\"]).get_group((\"15-19\"))\n",
    "pc3 = len(Bin3[\"SN\"].unique())\n",
    "Per_Bin3 = (pc3/total_count)*100\n",
    "print(pc3)\n",
    "print(Per_Bin3)\n",
    "\n",
    "Bin4 = purchase_data.groupby([\"Age Summary\"]).get_group((\"20-24\"))\n",
    "pc4 = len(Bin4[\"SN\"].unique())\n",
    "Per_Bin4 = (pc4/total_count)*100\n",
    "print(pc4)\n",
    "print(Per_Bin4)\n",
    "\n",
    "Bin5 = purchase_data.groupby([\"Age Summary\"]).get_group((\"25-29\"))\n",
    "pc5 = len(Bin5[\"SN\"].unique())\n",
    "Per_Bin5 = (pc5/total_count)*100\n",
    "print(pc5)\n",
    "print(Per_Bin5)\n",
    "\n",
    "Bin6 = purchase_data.groupby([\"Age Summary\"]).get_group((\"30-34\"))\n",
    "pc6 = len(Bin6[\"SN\"].unique())\n",
    "Per_Bin6 = (pc6/total_count)*100\n",
    "print(pc6)\n",
    "print(Per_Bin6)\n",
    "\n",
    "Bin7 = purchase_data.groupby([\"Age Summary\"]).get_group((\"35-39\"))\n",
    "pc7 = len(Bin7[\"SN\"].unique())\n",
    "Per_Bin7 = (pc7/total_count)*100\n",
    "print(pc7)\n",
    "print(Per_Bin7)\n",
    "\n",
    "Bin8 = purchase_data.groupby([\"Age Summary\"]).get_group((\"40+\"))\n",
    "pc8 = len(Bin8[\"SN\"].unique())\n",
    "Per_Bin8 = (pc8/total_count)*100\n",
    "print(pc8)\n",
    "print(Per_Bin8)"
   ]
  },
  {
   "cell_type": "code",
   "execution_count": 21,
   "metadata": {},
   "outputs": [
    {
     "data": {
      "text/html": [
       "<style  type=\"text/css\" >\n",
       "</style>  \n",
       "<table id=\"T_0241279e_363c_11e9_84f8_7c2a31b2fd53\" > \n",
       "<thead>    <tr> \n",
       "        <th class=\"blank level0\" ></th> \n",
       "        <th class=\"col_heading level0 col0\" >Total Count</th> \n",
       "        <th class=\"col_heading level0 col1\" >Percentage Of Players</th> \n",
       "    </tr>    <tr> \n",
       "        <th class=\"index_name level0\" ></th> \n",
       "        <th class=\"blank\" ></th> \n",
       "        <th class=\"blank\" ></th> \n",
       "    </tr></thead> \n",
       "<tbody>    <tr> \n",
       "        <th id=\"T_0241279e_363c_11e9_84f8_7c2a31b2fd53level0_row0\" class=\"row_heading level0 row0\" >< 10</th> \n",
       "        <td id=\"T_0241279e_363c_11e9_84f8_7c2a31b2fd53row0_col0\" class=\"data row0 col0\" >17</td> \n",
       "        <td id=\"T_0241279e_363c_11e9_84f8_7c2a31b2fd53row0_col1\" class=\"data row0 col1\" >2.95%</td> \n",
       "    </tr>    <tr> \n",
       "        <th id=\"T_0241279e_363c_11e9_84f8_7c2a31b2fd53level0_row1\" class=\"row_heading level0 row1\" >10-14</th> \n",
       "        <td id=\"T_0241279e_363c_11e9_84f8_7c2a31b2fd53row1_col0\" class=\"data row1 col0\" >22</td> \n",
       "        <td id=\"T_0241279e_363c_11e9_84f8_7c2a31b2fd53row1_col1\" class=\"data row1 col1\" >3.82%</td> \n",
       "    </tr>    <tr> \n",
       "        <th id=\"T_0241279e_363c_11e9_84f8_7c2a31b2fd53level0_row2\" class=\"row_heading level0 row2\" >15-19</th> \n",
       "        <td id=\"T_0241279e_363c_11e9_84f8_7c2a31b2fd53row2_col0\" class=\"data row2 col0\" >107</td> \n",
       "        <td id=\"T_0241279e_363c_11e9_84f8_7c2a31b2fd53row2_col1\" class=\"data row2 col1\" >18.58%</td> \n",
       "    </tr>    <tr> \n",
       "        <th id=\"T_0241279e_363c_11e9_84f8_7c2a31b2fd53level0_row3\" class=\"row_heading level0 row3\" >20-24</th> \n",
       "        <td id=\"T_0241279e_363c_11e9_84f8_7c2a31b2fd53row3_col0\" class=\"data row3 col0\" >258</td> \n",
       "        <td id=\"T_0241279e_363c_11e9_84f8_7c2a31b2fd53row3_col1\" class=\"data row3 col1\" >44.79%</td> \n",
       "    </tr>    <tr> \n",
       "        <th id=\"T_0241279e_363c_11e9_84f8_7c2a31b2fd53level0_row4\" class=\"row_heading level0 row4\" >25-29</th> \n",
       "        <td id=\"T_0241279e_363c_11e9_84f8_7c2a31b2fd53row4_col0\" class=\"data row4 col0\" >77</td> \n",
       "        <td id=\"T_0241279e_363c_11e9_84f8_7c2a31b2fd53row4_col1\" class=\"data row4 col1\" >13.37%</td> \n",
       "    </tr>    <tr> \n",
       "        <th id=\"T_0241279e_363c_11e9_84f8_7c2a31b2fd53level0_row5\" class=\"row_heading level0 row5\" >30-34</th> \n",
       "        <td id=\"T_0241279e_363c_11e9_84f8_7c2a31b2fd53row5_col0\" class=\"data row5 col0\" >52</td> \n",
       "        <td id=\"T_0241279e_363c_11e9_84f8_7c2a31b2fd53row5_col1\" class=\"data row5 col1\" >9.03%</td> \n",
       "    </tr>    <tr> \n",
       "        <th id=\"T_0241279e_363c_11e9_84f8_7c2a31b2fd53level0_row6\" class=\"row_heading level0 row6\" >35-39</th> \n",
       "        <td id=\"T_0241279e_363c_11e9_84f8_7c2a31b2fd53row6_col0\" class=\"data row6 col0\" >31</td> \n",
       "        <td id=\"T_0241279e_363c_11e9_84f8_7c2a31b2fd53row6_col1\" class=\"data row6 col1\" >5.38%</td> \n",
       "    </tr>    <tr> \n",
       "        <th id=\"T_0241279e_363c_11e9_84f8_7c2a31b2fd53level0_row7\" class=\"row_heading level0 row7\" >40+</th> \n",
       "        <td id=\"T_0241279e_363c_11e9_84f8_7c2a31b2fd53row7_col0\" class=\"data row7 col0\" >12</td> \n",
       "        <td id=\"T_0241279e_363c_11e9_84f8_7c2a31b2fd53row7_col1\" class=\"data row7 col1\" >2.08%</td> \n",
       "    </tr></tbody> \n",
       "</table> "
      ],
      "text/plain": [
       "<pandas.io.formats.style.Styler at 0x22f4fe3b7f0>"
      ]
     },
     "execution_count": 21,
     "metadata": {},
     "output_type": "execute_result"
    }
   ],
   "source": [
    "Player_Bins_Count=[pc1,pc2,pc3,pc4,pc5,pc6,pc7,pc8]\n",
    "Percent_Bins= [Per_Bin1,Per_Bin2,Per_Bin3,Per_Bin4,Per_Bin5,Per_Bin6,Per_Bin7,Per_Bin8]\n",
    "#Percent_Bins= [round(x,2) for x in Percent_Bins]\n",
    "\n",
    "Age_Dem = {\"\":Age_labels,\"Total Count\":Player_Bins_Count,\"Percentage Of Players\":Percent_Bins}\n",
    "Age_Dem1 = pd.DataFrame(Age_Dem)\n",
    "Age_Dem1 = Age_Dem1.set_index(\"\")\n",
    "Age_Dem1=Age_Dem1.style.format({\"Percentage Of Players\":\"{:,.2f}%\"})\n",
    "Age_Dem1"
   ]
  },
  {
   "cell_type": "markdown",
   "metadata": {},
   "source": [
    "## Purchasing Analysis (Age)"
   ]
  },
  {
   "cell_type": "markdown",
   "metadata": {},
   "source": [
    "* Bin the purchase_data data frame by age\n",
    "\n",
    "\n",
    "* Run basic calculations to obtain purchase count, avg. purchase price, avg. purchase total per person etc. in the table below\n",
    "\n",
    "\n",
    "* Create a summary data frame to hold the results\n",
    "\n",
    "\n",
    "* Optional: give the displayed data cleaner formatting\n",
    "\n",
    "\n",
    "* Display the summary data frame"
   ]
  },
  {
   "cell_type": "code",
   "execution_count": 22,
   "metadata": {},
   "outputs": [
    {
     "name": "stdout",
     "output_type": "stream",
     "text": [
      "23\n",
      "28\n",
      "136\n",
      "365\n",
      "101\n",
      "73\n",
      "41\n",
      "13\n"
     ]
    }
   ],
   "source": [
    "#Age Group Count\n",
    "Age_Group1 = purchase_data.groupby([\"Age Summary\"]).get_group((\"< 10\"))\n",
    "AG_Count1 = len(Age_Group1[\"SN\"])\n",
    "print(AG_Count1)\n",
    "\n",
    "Age_Group2 = purchase_data.groupby([\"Age Summary\"]).get_group((\"10-14\"))\n",
    "AG_Count2 = len(Age_Group2[\"SN\"])\n",
    "print(AG_Count2)\n",
    "\n",
    "Age_Group3 = purchase_data.groupby([\"Age Summary\"]).get_group((\"15-19\"))\n",
    "AG_Count3 = len(Age_Group3[\"SN\"])\n",
    "print(AG_Count3)\n",
    "\n",
    "Age_Group4 = purchase_data.groupby([\"Age Summary\"]).get_group((\"20-24\"))\n",
    "AG_Count4 = len(Age_Group4[\"SN\"])\n",
    "print(AG_Count4)\n",
    "\n",
    "Age_Group5 = purchase_data.groupby([\"Age Summary\"]).get_group((\"25-29\"))\n",
    "AG_Count5 = len(Age_Group5[\"SN\"])\n",
    "print(AG_Count5)\n",
    "\n",
    "Age_Group6 = purchase_data.groupby([\"Age Summary\"]).get_group((\"30-34\"))\n",
    "AG_Count6 = len(Age_Group6[\"SN\"])\n",
    "print(AG_Count6)\n",
    "\n",
    "Age_Group7 = purchase_data.groupby([\"Age Summary\"]).get_group((\"35-39\"))\n",
    "AG_Count7 = len(Age_Group7[\"SN\"])\n",
    "print(AG_Count7)\n",
    "\n",
    "Age_Group8 = purchase_data.groupby([\"Age Summary\"]).get_group((\"40+\"))\n",
    "AG_Count8 = len(Age_Group8[\"SN\"])\n",
    "print(AG_Count8)"
   ]
  },
  {
   "cell_type": "code",
   "execution_count": 23,
   "metadata": {},
   "outputs": [
    {
     "name": "stdout",
     "output_type": "stream",
     "text": [
      "77.13\n",
      "82.78\n",
      "412.89\n",
      "1114.06\n",
      "292.99999999999994\n",
      "214.00000000000003\n",
      "147.67\n",
      "38.24\n"
     ]
    }
   ],
   "source": [
    "#Total Purchase Value\n",
    "Age_Group1_Total_Purchase = Age_Group1[\"Price\"].sum()\n",
    "print(Age_Group1_Total_Purchase)\n",
    "\n",
    "Age_Group2_Total_Purchase = Age_Group2[\"Price\"].sum()\n",
    "print(Age_Group2_Total_Purchase)\n",
    "\n",
    "Age_Group3_Total_Purchase = Age_Group3[\"Price\"].sum()\n",
    "print(Age_Group3_Total_Purchase)\n",
    "\n",
    "Age_Group4_Total_Purchase = Age_Group4[\"Price\"].sum()\n",
    "print(Age_Group4_Total_Purchase)\n",
    "\n",
    "Age_Group5_Total_Purchase = Age_Group5[\"Price\"].sum()\n",
    "print(Age_Group5_Total_Purchase)\n",
    "\n",
    "Age_Group6_Total_Purchase = Age_Group6[\"Price\"].sum()\n",
    "print(Age_Group6_Total_Purchase)\n",
    "\n",
    "Age_Group7_Total_Purchase = Age_Group7[\"Price\"].sum()\n",
    "print(Age_Group7_Total_Purchase)\n",
    "\n",
    "Age_Group8_Total_Purchase = Age_Group8[\"Price\"].sum()\n",
    "print(Age_Group8_Total_Purchase)"
   ]
  },
  {
   "cell_type": "code",
   "execution_count": 24,
   "metadata": {},
   "outputs": [
    {
     "name": "stdout",
     "output_type": "stream",
     "text": [
      "3.353478260869565\n",
      "2.9564285714285714\n",
      "3.035955882352941\n",
      "3.0522191780821917\n",
      "2.9009900990099005\n",
      "2.9315068493150687\n",
      "3.6017073170731706\n",
      "2.9415384615384617\n"
     ]
    }
   ],
   "source": [
    "#Average Purchase price\n",
    "Age_Group1_Avg_Price= Age_Group1_Total_Purchase/len(Age_Group1[\"Price\"])\n",
    "print(Age_Group1_Avg_Price)\n",
    "\n",
    "Age_Group2_Avg_Price= Age_Group2_Total_Purchase/len(Age_Group2[\"Price\"])\n",
    "print(Age_Group2_Avg_Price)\n",
    "\n",
    "Age_Group3_Avg_Price= Age_Group3_Total_Purchase/len(Age_Group3[\"Price\"])\n",
    "print(Age_Group3_Avg_Price)\n",
    "\n",
    "Age_Group4_Avg_Price= Age_Group4_Total_Purchase/len(Age_Group4[\"Price\"])\n",
    "print(Age_Group4_Avg_Price)\n",
    "\n",
    "Age_Group5_Avg_Price= Age_Group5_Total_Purchase/len(Age_Group5[\"Price\"])\n",
    "print(Age_Group5_Avg_Price)\n",
    "\n",
    "Age_Group6_Avg_Price= Age_Group6_Total_Purchase/len(Age_Group6[\"Price\"])\n",
    "print(Age_Group6_Avg_Price)\n",
    "\n",
    "Age_Group7_Avg_Price= Age_Group7_Total_Purchase/len(Age_Group7[\"Price\"])\n",
    "print(Age_Group7_Avg_Price)\n",
    "\n",
    "Age_Group8_Avg_Price= Age_Group8_Total_Purchase/len(Age_Group8[\"Price\"])\n",
    "print(Age_Group8_Avg_Price)"
   ]
  },
  {
   "cell_type": "code",
   "execution_count": 25,
   "metadata": {},
   "outputs": [
    {
     "name": "stdout",
     "output_type": "stream",
     "text": [
      "17\n",
      "22\n",
      "107\n",
      "258\n",
      "77\n",
      "52\n",
      "31\n",
      "12\n"
     ]
    }
   ],
   "source": [
    "# Unique count of age group\n",
    "Unique_AG_Count1 = len(Age_Group1[\"SN\"].unique())\n",
    "print(Unique_AG_Count1)\n",
    "\n",
    "Unique_AG_Count2 = len(Age_Group2[\"SN\"].unique())\n",
    "print(Unique_AG_Count2)\n",
    "\n",
    "Unique_AG_Count3 = len(Age_Group3[\"SN\"].unique())\n",
    "print(Unique_AG_Count3)\n",
    "\n",
    "Unique_AG_Count4 = len(Age_Group4[\"SN\"].unique())\n",
    "print(Unique_AG_Count4)\n",
    "\n",
    "Unique_AG_Count5 = len(Age_Group5[\"SN\"].unique())\n",
    "print(Unique_AG_Count5)\n",
    "\n",
    "Unique_AG_Count6 = len(Age_Group6[\"SN\"].unique())\n",
    "print(Unique_AG_Count6)\n",
    "\n",
    "Unique_AG_Count7 = len(Age_Group7[\"SN\"].unique())\n",
    "print(Unique_AG_Count7)\n",
    "\n",
    "Unique_AG_Count8 = len(Age_Group8[\"SN\"].unique())\n",
    "print(Unique_AG_Count8)\n"
   ]
  },
  {
   "cell_type": "code",
   "execution_count": 26,
   "metadata": {},
   "outputs": [
    {
     "name": "stdout",
     "output_type": "stream",
     "text": [
      "4.537058823529412\n",
      "3.7627272727272727\n",
      "3.858785046728972\n",
      "4.318062015503876\n",
      "3.8051948051948044\n",
      "4.115384615384616\n",
      "4.763548387096773\n",
      "3.186666666666667\n"
     ]
    }
   ],
   "source": [
    "#Average Total Purchase per person\n",
    "PP_AvgTot_AG1 =Age_Group1_Total_Purchase/Unique_AG_Count1\n",
    "print(PP_AvgTot_AG1)\n",
    "\n",
    "PP_AvgTot_AG2 =Age_Group2_Total_Purchase/Unique_AG_Count2\n",
    "print(PP_AvgTot_AG2)\n",
    "\n",
    "PP_AvgTot_AG3 =Age_Group3_Total_Purchase/Unique_AG_Count3\n",
    "print(PP_AvgTot_AG3)\n",
    "\n",
    "PP_AvgTot_AG4 =Age_Group4_Total_Purchase/Unique_AG_Count4\n",
    "print(PP_AvgTot_AG4)\n",
    "\n",
    "PP_AvgTot_AG5 =Age_Group5_Total_Purchase/Unique_AG_Count5\n",
    "print(PP_AvgTot_AG5)\n",
    "\n",
    "PP_AvgTot_AG6 =Age_Group6_Total_Purchase/Unique_AG_Count6\n",
    "print(PP_AvgTot_AG6)\n",
    "\n",
    "PP_AvgTot_AG7 =Age_Group7_Total_Purchase/Unique_AG_Count7\n",
    "print(PP_AvgTot_AG7)\n",
    "\n",
    "PP_AvgTot_AG8 =Age_Group8_Total_Purchase/Unique_AG_Count8\n",
    "print(PP_AvgTot_AG8)"
   ]
  },
  {
   "cell_type": "code",
   "execution_count": 27,
   "metadata": {},
   "outputs": [
    {
     "data": {
      "text/html": [
       "<style  type=\"text/css\" >\n",
       "</style>  \n",
       "<table id=\"T_024f0682_363c_11e9_bb25_7c2a31b2fd53\" > \n",
       "<thead>    <tr> \n",
       "        <th class=\"blank level0\" ></th> \n",
       "        <th class=\"col_heading level0 col0\" >Purchase Count</th> \n",
       "        <th class=\"col_heading level0 col1\" >Average Purchase Price</th> \n",
       "        <th class=\"col_heading level0 col2\" >Total Purchase Value</th> \n",
       "        <th class=\"col_heading level0 col3\" >Avg Total Purchase per Person</th> \n",
       "    </tr>    <tr> \n",
       "        <th class=\"index_name level0\" ></th> \n",
       "        <th class=\"blank\" ></th> \n",
       "        <th class=\"blank\" ></th> \n",
       "        <th class=\"blank\" ></th> \n",
       "        <th class=\"blank\" ></th> \n",
       "    </tr></thead> \n",
       "<tbody>    <tr> \n",
       "        <th id=\"T_024f0682_363c_11e9_bb25_7c2a31b2fd53level0_row0\" class=\"row_heading level0 row0\" >10-14</th> \n",
       "        <td id=\"T_024f0682_363c_11e9_bb25_7c2a31b2fd53row0_col0\" class=\"data row0 col0\" >28</td> \n",
       "        <td id=\"T_024f0682_363c_11e9_bb25_7c2a31b2fd53row0_col1\" class=\"data row0 col1\" >$2.96</td> \n",
       "        <td id=\"T_024f0682_363c_11e9_bb25_7c2a31b2fd53row0_col2\" class=\"data row0 col2\" >$82.78</td> \n",
       "        <td id=\"T_024f0682_363c_11e9_bb25_7c2a31b2fd53row0_col3\" class=\"data row0 col3\" >$3.76</td> \n",
       "    </tr>    <tr> \n",
       "        <th id=\"T_024f0682_363c_11e9_bb25_7c2a31b2fd53level0_row1\" class=\"row_heading level0 row1\" >15-19</th> \n",
       "        <td id=\"T_024f0682_363c_11e9_bb25_7c2a31b2fd53row1_col0\" class=\"data row1 col0\" >136</td> \n",
       "        <td id=\"T_024f0682_363c_11e9_bb25_7c2a31b2fd53row1_col1\" class=\"data row1 col1\" >$3.04</td> \n",
       "        <td id=\"T_024f0682_363c_11e9_bb25_7c2a31b2fd53row1_col2\" class=\"data row1 col2\" >$412.89</td> \n",
       "        <td id=\"T_024f0682_363c_11e9_bb25_7c2a31b2fd53row1_col3\" class=\"data row1 col3\" >$3.86</td> \n",
       "    </tr>    <tr> \n",
       "        <th id=\"T_024f0682_363c_11e9_bb25_7c2a31b2fd53level0_row2\" class=\"row_heading level0 row2\" >20-24</th> \n",
       "        <td id=\"T_024f0682_363c_11e9_bb25_7c2a31b2fd53row2_col0\" class=\"data row2 col0\" >365</td> \n",
       "        <td id=\"T_024f0682_363c_11e9_bb25_7c2a31b2fd53row2_col1\" class=\"data row2 col1\" >$3.05</td> \n",
       "        <td id=\"T_024f0682_363c_11e9_bb25_7c2a31b2fd53row2_col2\" class=\"data row2 col2\" >$1114.06</td> \n",
       "        <td id=\"T_024f0682_363c_11e9_bb25_7c2a31b2fd53row2_col3\" class=\"data row2 col3\" >$4.32</td> \n",
       "    </tr>    <tr> \n",
       "        <th id=\"T_024f0682_363c_11e9_bb25_7c2a31b2fd53level0_row3\" class=\"row_heading level0 row3\" >25-29</th> \n",
       "        <td id=\"T_024f0682_363c_11e9_bb25_7c2a31b2fd53row3_col0\" class=\"data row3 col0\" >101</td> \n",
       "        <td id=\"T_024f0682_363c_11e9_bb25_7c2a31b2fd53row3_col1\" class=\"data row3 col1\" >$2.90</td> \n",
       "        <td id=\"T_024f0682_363c_11e9_bb25_7c2a31b2fd53row3_col2\" class=\"data row3 col2\" >$293.00</td> \n",
       "        <td id=\"T_024f0682_363c_11e9_bb25_7c2a31b2fd53row3_col3\" class=\"data row3 col3\" >$3.81</td> \n",
       "    </tr>    <tr> \n",
       "        <th id=\"T_024f0682_363c_11e9_bb25_7c2a31b2fd53level0_row4\" class=\"row_heading level0 row4\" >30-34</th> \n",
       "        <td id=\"T_024f0682_363c_11e9_bb25_7c2a31b2fd53row4_col0\" class=\"data row4 col0\" >73</td> \n",
       "        <td id=\"T_024f0682_363c_11e9_bb25_7c2a31b2fd53row4_col1\" class=\"data row4 col1\" >$2.93</td> \n",
       "        <td id=\"T_024f0682_363c_11e9_bb25_7c2a31b2fd53row4_col2\" class=\"data row4 col2\" >$214.00</td> \n",
       "        <td id=\"T_024f0682_363c_11e9_bb25_7c2a31b2fd53row4_col3\" class=\"data row4 col3\" >$4.12</td> \n",
       "    </tr>    <tr> \n",
       "        <th id=\"T_024f0682_363c_11e9_bb25_7c2a31b2fd53level0_row5\" class=\"row_heading level0 row5\" >35-39</th> \n",
       "        <td id=\"T_024f0682_363c_11e9_bb25_7c2a31b2fd53row5_col0\" class=\"data row5 col0\" >41</td> \n",
       "        <td id=\"T_024f0682_363c_11e9_bb25_7c2a31b2fd53row5_col1\" class=\"data row5 col1\" >$3.60</td> \n",
       "        <td id=\"T_024f0682_363c_11e9_bb25_7c2a31b2fd53row5_col2\" class=\"data row5 col2\" >$147.67</td> \n",
       "        <td id=\"T_024f0682_363c_11e9_bb25_7c2a31b2fd53row5_col3\" class=\"data row5 col3\" >$4.76</td> \n",
       "    </tr>    <tr> \n",
       "        <th id=\"T_024f0682_363c_11e9_bb25_7c2a31b2fd53level0_row6\" class=\"row_heading level0 row6\" >40+</th> \n",
       "        <td id=\"T_024f0682_363c_11e9_bb25_7c2a31b2fd53row6_col0\" class=\"data row6 col0\" >13</td> \n",
       "        <td id=\"T_024f0682_363c_11e9_bb25_7c2a31b2fd53row6_col1\" class=\"data row6 col1\" >$2.94</td> \n",
       "        <td id=\"T_024f0682_363c_11e9_bb25_7c2a31b2fd53row6_col2\" class=\"data row6 col2\" >$38.24</td> \n",
       "        <td id=\"T_024f0682_363c_11e9_bb25_7c2a31b2fd53row6_col3\" class=\"data row6 col3\" >$3.19</td> \n",
       "    </tr>    <tr> \n",
       "        <th id=\"T_024f0682_363c_11e9_bb25_7c2a31b2fd53level0_row7\" class=\"row_heading level0 row7\" ><10</th> \n",
       "        <td id=\"T_024f0682_363c_11e9_bb25_7c2a31b2fd53row7_col0\" class=\"data row7 col0\" >23</td> \n",
       "        <td id=\"T_024f0682_363c_11e9_bb25_7c2a31b2fd53row7_col1\" class=\"data row7 col1\" >$3.35</td> \n",
       "        <td id=\"T_024f0682_363c_11e9_bb25_7c2a31b2fd53row7_col2\" class=\"data row7 col2\" >$77.13</td> \n",
       "        <td id=\"T_024f0682_363c_11e9_bb25_7c2a31b2fd53row7_col3\" class=\"data row7 col3\" >$4.54</td> \n",
       "    </tr></tbody> \n",
       "</table> "
      ],
      "text/plain": [
       "<pandas.io.formats.style.Styler at 0x22f4ff3c438>"
      ]
     },
     "execution_count": 27,
     "metadata": {},
     "output_type": "execute_result"
    }
   ],
   "source": [
    "# Instructon shows the first age group (\"<10\") on the last row. That is why my result doesn't look in order. \n",
    "# I just followed the instruction\n",
    "\n",
    "Purchase_By_AgeGroup = {\"\":[\"10-14\",\"15-19\",\"20-24\",\"25-29\",\"30-34\",\"35-39\",\"40+\",\"<10\"],\n",
    "                      \"Purchase Count\":[AG_Count2,AG_Count3,AG_Count4,AG_Count5,AG_Count6,AG_Count7,AG_Count8,AG_Count1], \n",
    "                    \"Average Purchase Price\":[Age_Group2_Avg_Price,Age_Group3_Avg_Price,Age_Group4_Avg_Price,Age_Group5_Avg_Price,Age_Group6_Avg_Price,Age_Group7_Avg_Price,Age_Group8_Avg_Price,Age_Group1_Avg_Price],\n",
    "                    \"Total Purchase Value\":[Age_Group2_Total_Purchase,Age_Group3_Total_Purchase,Age_Group4_Total_Purchase,Age_Group5_Total_Purchase,Age_Group6_Total_Purchase,Age_Group7_Total_Purchase,Age_Group8_Total_Purchase,Age_Group1_Total_Purchase],\n",
    "                \"Avg Total Purchase per Person\":[PP_AvgTot_AG2,PP_AvgTot_AG3,PP_AvgTot_AG4,PP_AvgTot_AG5,PP_AvgTot_AG6,PP_AvgTot_AG7,PP_AvgTot_AG8,PP_AvgTot_AG1]}\n",
    "\n",
    "Purchase_By_AgeGroup1 = pd.DataFrame(Purchase_By_AgeGroup)\n",
    "Purchase_By_AgeGroup1 = Purchase_By_AgeGroup1.set_index(\"\")\n",
    "Purchase_By_AgeGroup1=Purchase_By_AgeGroup1.style.format({\"Average Purchase Price\": \"${:.2f}\",\"Avg Total Purchase per Person\": \"${:.2f}\",\n",
    "                                                     \"Total Purchase Value\": \"${:.2f}\"})\n",
    "\n",
    "Purchase_By_AgeGroup1"
   ]
  },
  {
   "cell_type": "markdown",
   "metadata": {},
   "source": [
    "## Top Spenders"
   ]
  },
  {
   "cell_type": "markdown",
   "metadata": {},
   "source": [
    "* Run basic calculations to obtain the results in the table below\n",
    "\n",
    "\n",
    "* Create a summary data frame to hold the results\n",
    "\n",
    "\n",
    "* Sort the total purchase value column in descending order\n",
    "\n",
    "\n",
    "* Optional: give the displayed data cleaner formatting\n",
    "\n",
    "\n",
    "* Display a preview of the summary data frame\n",
    "\n"
   ]
  },
  {
   "cell_type": "code",
   "execution_count": 28,
   "metadata": {},
   "outputs": [
    {
     "data": {
      "text/html": [
       "<style  type=\"text/css\" >\n",
       "</style>  \n",
       "<table id=\"T_02540c2e_363c_11e9_9bee_7c2a31b2fd53\" > \n",
       "<thead>    <tr> \n",
       "        <th class=\"blank level0\" ></th> \n",
       "        <th class=\"col_heading level0 col0\" >Purchase Count</th> \n",
       "        <th class=\"col_heading level0 col1\" >Average Purchase Price</th> \n",
       "        <th class=\"col_heading level0 col2\" >Total Purchase Value</th> \n",
       "    </tr>    <tr> \n",
       "        <th class=\"index_name level0\" >SN</th> \n",
       "        <th class=\"blank\" ></th> \n",
       "        <th class=\"blank\" ></th> \n",
       "        <th class=\"blank\" ></th> \n",
       "    </tr></thead> \n",
       "<tbody>    <tr> \n",
       "        <th id=\"T_02540c2e_363c_11e9_9bee_7c2a31b2fd53level0_row0\" class=\"row_heading level0 row0\" >Lisosia93</th> \n",
       "        <td id=\"T_02540c2e_363c_11e9_9bee_7c2a31b2fd53row0_col0\" class=\"data row0 col0\" >5</td> \n",
       "        <td id=\"T_02540c2e_363c_11e9_9bee_7c2a31b2fd53row0_col1\" class=\"data row0 col1\" >$3.79</td> \n",
       "        <td id=\"T_02540c2e_363c_11e9_9bee_7c2a31b2fd53row0_col2\" class=\"data row0 col2\" >$18.96</td> \n",
       "    </tr>    <tr> \n",
       "        <th id=\"T_02540c2e_363c_11e9_9bee_7c2a31b2fd53level0_row1\" class=\"row_heading level0 row1\" >Idastidru52</th> \n",
       "        <td id=\"T_02540c2e_363c_11e9_9bee_7c2a31b2fd53row1_col0\" class=\"data row1 col0\" >4</td> \n",
       "        <td id=\"T_02540c2e_363c_11e9_9bee_7c2a31b2fd53row1_col1\" class=\"data row1 col1\" >$3.86</td> \n",
       "        <td id=\"T_02540c2e_363c_11e9_9bee_7c2a31b2fd53row1_col2\" class=\"data row1 col2\" >$15.45</td> \n",
       "    </tr>    <tr> \n",
       "        <th id=\"T_02540c2e_363c_11e9_9bee_7c2a31b2fd53level0_row2\" class=\"row_heading level0 row2\" >Chamjask73</th> \n",
       "        <td id=\"T_02540c2e_363c_11e9_9bee_7c2a31b2fd53row2_col0\" class=\"data row2 col0\" >3</td> \n",
       "        <td id=\"T_02540c2e_363c_11e9_9bee_7c2a31b2fd53row2_col1\" class=\"data row2 col1\" >$4.61</td> \n",
       "        <td id=\"T_02540c2e_363c_11e9_9bee_7c2a31b2fd53row2_col2\" class=\"data row2 col2\" >$13.83</td> \n",
       "    </tr>    <tr> \n",
       "        <th id=\"T_02540c2e_363c_11e9_9bee_7c2a31b2fd53level0_row3\" class=\"row_heading level0 row3\" >Iral74</th> \n",
       "        <td id=\"T_02540c2e_363c_11e9_9bee_7c2a31b2fd53row3_col0\" class=\"data row3 col0\" >4</td> \n",
       "        <td id=\"T_02540c2e_363c_11e9_9bee_7c2a31b2fd53row3_col1\" class=\"data row3 col1\" >$3.40</td> \n",
       "        <td id=\"T_02540c2e_363c_11e9_9bee_7c2a31b2fd53row3_col2\" class=\"data row3 col2\" >$13.62</td> \n",
       "    </tr>    <tr> \n",
       "        <th id=\"T_02540c2e_363c_11e9_9bee_7c2a31b2fd53level0_row4\" class=\"row_heading level0 row4\" >Iskadarya95</th> \n",
       "        <td id=\"T_02540c2e_363c_11e9_9bee_7c2a31b2fd53row4_col0\" class=\"data row4 col0\" >3</td> \n",
       "        <td id=\"T_02540c2e_363c_11e9_9bee_7c2a31b2fd53row4_col1\" class=\"data row4 col1\" >$4.37</td> \n",
       "        <td id=\"T_02540c2e_363c_11e9_9bee_7c2a31b2fd53row4_col2\" class=\"data row4 col2\" >$13.10</td> \n",
       "    </tr></tbody> \n",
       "</table> "
      ],
      "text/plain": [
       "<pandas.io.formats.style.Styler at 0x22f4ff37748>"
      ]
     },
     "execution_count": 28,
     "metadata": {},
     "output_type": "execute_result"
    }
   ],
   "source": [
    "# Top Spenders\n",
    "\n",
    "Sn_Total_Purchase = purchase_data.groupby('SN')['Price'].sum().to_frame()\n",
    "Sn_Purchase_Count = purchase_data.groupby('SN')['Price'].count().to_frame()\n",
    "Sn_Purchase_Avg = purchase_data.groupby('SN')['Price'].mean().to_frame()\n",
    "\n",
    "Sn_Total_Purchase.columns=[\"Total Purchase Value\"]\n",
    "Join1 = Sn_Total_Purchase.join(Sn_Purchase_Count, how=\"left\")\n",
    "Join1.columns=[\"Total Purchase Value\", \"Purchase Count\"]\n",
    "\n",
    "Join2 = Join1.join(Sn_Purchase_Avg, how=\"inner\")\n",
    "Join2.columns=[\"Total Purchase Value\", \"Purchase Count\", \"Average Purchase Price\"]\n",
    "\n",
    "Top_Spenders_df = Join2[[\"Purchase Count\", \"Average Purchase Price\", \"Total Purchase Value\"]]\n",
    "Top_Spenders_final = Top_Spenders_df.sort_values('Total Purchase Value', ascending=False).head()\n",
    "Top_Spenders_final.style.format({\"Average Purchase Price\": \"${:.2f}\", \"Total Purchase Value\": \"${:.2f}\"})"
   ]
  },
  {
   "cell_type": "markdown",
   "metadata": {},
   "source": [
    "## Most Popular Items"
   ]
  },
  {
   "cell_type": "markdown",
   "metadata": {},
   "source": [
    "* Retrieve the Item ID, Item Name, and Item Price columns\n",
    "\n",
    "\n",
    "* Group by Item ID and Item Name. Perform calculations to obtain purchase count, item price, and total purchase value\n",
    "\n",
    "\n",
    "* Create a summary data frame to hold the results\n",
    "\n",
    "\n",
    "* Sort the purchase count column in descending order\n",
    "\n",
    "\n",
    "* Optional: give the displayed data cleaner formatting\n",
    "\n",
    "\n",
    "* Display a preview of the summary data frame\n",
    "\n"
   ]
  },
  {
   "cell_type": "code",
   "execution_count": 29,
   "metadata": {},
   "outputs": [
    {
     "data": {
      "text/html": [
       "<style  type=\"text/css\" >\n",
       "</style>  \n",
       "<table id=\"T_0260b0ca_363c_11e9_8175_7c2a31b2fd53\" > \n",
       "<thead>    <tr> \n",
       "        <th class=\"blank\" ></th> \n",
       "        <th class=\"blank level0\" ></th> \n",
       "        <th class=\"col_heading level0 col0\" >Purchase Count</th> \n",
       "        <th class=\"col_heading level0 col1\" >Item Price</th> \n",
       "        <th class=\"col_heading level0 col2\" >Total Purchase Value</th> \n",
       "    </tr>    <tr> \n",
       "        <th class=\"index_name level0\" >Item ID</th> \n",
       "        <th class=\"index_name level1\" >Item Name</th> \n",
       "        <th class=\"blank\" ></th> \n",
       "        <th class=\"blank\" ></th> \n",
       "        <th class=\"blank\" ></th> \n",
       "    </tr></thead> \n",
       "<tbody>    <tr> \n",
       "        <th id=\"T_0260b0ca_363c_11e9_8175_7c2a31b2fd53level0_row0\" class=\"row_heading level0 row0\" >178</th> \n",
       "        <th id=\"T_0260b0ca_363c_11e9_8175_7c2a31b2fd53level1_row0\" class=\"row_heading level1 row0\" >Oathbreaker, Last Hope of the Breaking Storm</th> \n",
       "        <td id=\"T_0260b0ca_363c_11e9_8175_7c2a31b2fd53row0_col0\" class=\"data row0 col0\" >12</td> \n",
       "        <td id=\"T_0260b0ca_363c_11e9_8175_7c2a31b2fd53row0_col1\" class=\"data row0 col1\" >$4.23</td> \n",
       "        <td id=\"T_0260b0ca_363c_11e9_8175_7c2a31b2fd53row0_col2\" class=\"data row0 col2\" >$50.76</td> \n",
       "    </tr>    <tr> \n",
       "        <th id=\"T_0260b0ca_363c_11e9_8175_7c2a31b2fd53level0_row1\" class=\"row_heading level0 row1\" >82</th> \n",
       "        <th id=\"T_0260b0ca_363c_11e9_8175_7c2a31b2fd53level1_row1\" class=\"row_heading level1 row1\" >Nirvana</th> \n",
       "        <td id=\"T_0260b0ca_363c_11e9_8175_7c2a31b2fd53row1_col0\" class=\"data row1 col0\" >9</td> \n",
       "        <td id=\"T_0260b0ca_363c_11e9_8175_7c2a31b2fd53row1_col1\" class=\"data row1 col1\" >$4.90</td> \n",
       "        <td id=\"T_0260b0ca_363c_11e9_8175_7c2a31b2fd53row1_col2\" class=\"data row1 col2\" >$44.10</td> \n",
       "    </tr>    <tr> \n",
       "        <th id=\"T_0260b0ca_363c_11e9_8175_7c2a31b2fd53level0_row2\" class=\"row_heading level0 row2\" >145</th> \n",
       "        <th id=\"T_0260b0ca_363c_11e9_8175_7c2a31b2fd53level1_row2\" class=\"row_heading level1 row2\" >Fiery Glass Crusader</th> \n",
       "        <td id=\"T_0260b0ca_363c_11e9_8175_7c2a31b2fd53row2_col0\" class=\"data row2 col0\" >9</td> \n",
       "        <td id=\"T_0260b0ca_363c_11e9_8175_7c2a31b2fd53row2_col1\" class=\"data row2 col1\" >$4.58</td> \n",
       "        <td id=\"T_0260b0ca_363c_11e9_8175_7c2a31b2fd53row2_col2\" class=\"data row2 col2\" >$41.22</td> \n",
       "    </tr>    <tr> \n",
       "        <th id=\"T_0260b0ca_363c_11e9_8175_7c2a31b2fd53level0_row3\" class=\"row_heading level0 row3\" >108</th> \n",
       "        <th id=\"T_0260b0ca_363c_11e9_8175_7c2a31b2fd53level1_row3\" class=\"row_heading level1 row3\" >Extraction, Quickblade Of Trembling Hands</th> \n",
       "        <td id=\"T_0260b0ca_363c_11e9_8175_7c2a31b2fd53row3_col0\" class=\"data row3 col0\" >9</td> \n",
       "        <td id=\"T_0260b0ca_363c_11e9_8175_7c2a31b2fd53row3_col1\" class=\"data row3 col1\" >$3.53</td> \n",
       "        <td id=\"T_0260b0ca_363c_11e9_8175_7c2a31b2fd53row3_col2\" class=\"data row3 col2\" >$31.77</td> \n",
       "    </tr>    <tr> \n",
       "        <th id=\"T_0260b0ca_363c_11e9_8175_7c2a31b2fd53level0_row4\" class=\"row_heading level0 row4\" >103</th> \n",
       "        <th id=\"T_0260b0ca_363c_11e9_8175_7c2a31b2fd53level1_row4\" class=\"row_heading level1 row4\" >Singed Scalpel</th> \n",
       "        <td id=\"T_0260b0ca_363c_11e9_8175_7c2a31b2fd53row4_col0\" class=\"data row4 col0\" >8</td> \n",
       "        <td id=\"T_0260b0ca_363c_11e9_8175_7c2a31b2fd53row4_col1\" class=\"data row4 col1\" >$4.35</td> \n",
       "        <td id=\"T_0260b0ca_363c_11e9_8175_7c2a31b2fd53row4_col2\" class=\"data row4 col2\" >$34.80</td> \n",
       "    </tr></tbody> \n",
       "</table> "
      ],
      "text/plain": [
       "<pandas.io.formats.style.Styler at 0x22f4ff74c18>"
      ]
     },
     "execution_count": 29,
     "metadata": {},
     "output_type": "execute_result"
    }
   ],
   "source": [
    "# Most Popular\n",
    "Pre_Merge1 = purchase_data.groupby(\"Item Name\").sum().reset_index()\n",
    "Pre_Merge2 = purchase_data.groupby(\"Item ID\").sum().reset_index()\n",
    "Pre_Merge3 = purchase_data.groupby(\"Item Name\").count().reset_index()\n",
    "\n",
    "Merge1 = pd.merge(Pre_Merge1, Pre_Merge2, on=\"Price\")\n",
    "Merge2 = pd.merge(Pre_Merge3, Merge1, on=\"Item Name\")\n",
    "\n",
    "Merge2[\"Gender\"] = (Merge2[\"Price_y\"]/Merge2[\"Item ID\"])\n",
    "Merge2_renamed = Merge2.rename(columns={\"Age\": \"Purchase Count\", \"Gender\": \"Item Price\", \"Item ID\": \"null\", \"Price_y\": \"Total Purchase Value\", \"Item ID_y\": \"Item ID\"})\n",
    "\n",
    "Clean_df = Merge2_renamed[[\"Item ID\", \"Item Name\", \"Purchase Count\", \"Item Price\", \"Total Purchase Value\"]]\n",
    "\n",
    "Final_df = Clean_df.set_index(['Item ID','Item Name'])\n",
    "Most_Popular =Final_df.sort_values(\"Purchase Count\", ascending=False).head()\n",
    "Most_Popular.style.format({\"Item Price\": \"${:.2f}\", \"Total Purchase Value\": \"${:.2f}\"})"
   ]
  },
  {
   "cell_type": "markdown",
   "metadata": {},
   "source": [
    "## Most Profitable Items"
   ]
  },
  {
   "cell_type": "markdown",
   "metadata": {},
   "source": [
    "* Sort the above table by total purchase value in descending order\n",
    "\n",
    "\n",
    "* Optional: give the displayed data cleaner formatting\n",
    "\n",
    "\n",
    "* Display a preview of the data frame\n",
    "\n"
   ]
  },
  {
   "cell_type": "code",
   "execution_count": 30,
   "metadata": {
    "scrolled": true
   },
   "outputs": [
    {
     "data": {
      "text/html": [
       "<style  type=\"text/css\" >\n",
       "</style>  \n",
       "<table id=\"T_0506525c_363c_11e9_8012_7c2a31b2fd53\" > \n",
       "<thead>    <tr> \n",
       "        <th class=\"blank\" ></th> \n",
       "        <th class=\"blank level0\" ></th> \n",
       "        <th class=\"col_heading level0 col0\" >Purchase Count</th> \n",
       "        <th class=\"col_heading level0 col1\" >Item Price</th> \n",
       "        <th class=\"col_heading level0 col2\" >Total Purchase Value</th> \n",
       "    </tr>    <tr> \n",
       "        <th class=\"index_name level0\" >Item ID</th> \n",
       "        <th class=\"index_name level1\" >Item Name</th> \n",
       "        <th class=\"blank\" ></th> \n",
       "        <th class=\"blank\" ></th> \n",
       "        <th class=\"blank\" ></th> \n",
       "    </tr></thead> \n",
       "<tbody>    <tr> \n",
       "        <th id=\"T_0506525c_363c_11e9_8012_7c2a31b2fd53level0_row0\" class=\"row_heading level0 row0\" >178</th> \n",
       "        <th id=\"T_0506525c_363c_11e9_8012_7c2a31b2fd53level1_row0\" class=\"row_heading level1 row0\" >Oathbreaker, Last Hope of the Breaking Storm</th> \n",
       "        <td id=\"T_0506525c_363c_11e9_8012_7c2a31b2fd53row0_col0\" class=\"data row0 col0\" >12</td> \n",
       "        <td id=\"T_0506525c_363c_11e9_8012_7c2a31b2fd53row0_col1\" class=\"data row0 col1\" >$4.23</td> \n",
       "        <td id=\"T_0506525c_363c_11e9_8012_7c2a31b2fd53row0_col2\" class=\"data row0 col2\" >$50.76</td> \n",
       "    </tr>    <tr> \n",
       "        <th id=\"T_0506525c_363c_11e9_8012_7c2a31b2fd53level0_row1\" class=\"row_heading level0 row1\" >82</th> \n",
       "        <th id=\"T_0506525c_363c_11e9_8012_7c2a31b2fd53level1_row1\" class=\"row_heading level1 row1\" >Nirvana</th> \n",
       "        <td id=\"T_0506525c_363c_11e9_8012_7c2a31b2fd53row1_col0\" class=\"data row1 col0\" >9</td> \n",
       "        <td id=\"T_0506525c_363c_11e9_8012_7c2a31b2fd53row1_col1\" class=\"data row1 col1\" >$4.90</td> \n",
       "        <td id=\"T_0506525c_363c_11e9_8012_7c2a31b2fd53row1_col2\" class=\"data row1 col2\" >$44.10</td> \n",
       "    </tr>    <tr> \n",
       "        <th id=\"T_0506525c_363c_11e9_8012_7c2a31b2fd53level0_row2\" class=\"row_heading level0 row2\" >145</th> \n",
       "        <th id=\"T_0506525c_363c_11e9_8012_7c2a31b2fd53level1_row2\" class=\"row_heading level1 row2\" >Fiery Glass Crusader</th> \n",
       "        <td id=\"T_0506525c_363c_11e9_8012_7c2a31b2fd53row2_col0\" class=\"data row2 col0\" >9</td> \n",
       "        <td id=\"T_0506525c_363c_11e9_8012_7c2a31b2fd53row2_col1\" class=\"data row2 col1\" >$4.58</td> \n",
       "        <td id=\"T_0506525c_363c_11e9_8012_7c2a31b2fd53row2_col2\" class=\"data row2 col2\" >$41.22</td> \n",
       "    </tr>    <tr> \n",
       "        <th id=\"T_0506525c_363c_11e9_8012_7c2a31b2fd53level0_row3\" class=\"row_heading level0 row3\" >103</th> \n",
       "        <th id=\"T_0506525c_363c_11e9_8012_7c2a31b2fd53level1_row3\" class=\"row_heading level1 row3\" >Singed Scalpel</th> \n",
       "        <td id=\"T_0506525c_363c_11e9_8012_7c2a31b2fd53row3_col0\" class=\"data row3 col0\" >8</td> \n",
       "        <td id=\"T_0506525c_363c_11e9_8012_7c2a31b2fd53row3_col1\" class=\"data row3 col1\" >$4.35</td> \n",
       "        <td id=\"T_0506525c_363c_11e9_8012_7c2a31b2fd53row3_col2\" class=\"data row3 col2\" >$34.80</td> \n",
       "    </tr>    <tr> \n",
       "        <th id=\"T_0506525c_363c_11e9_8012_7c2a31b2fd53level0_row4\" class=\"row_heading level0 row4\" >59</th> \n",
       "        <th id=\"T_0506525c_363c_11e9_8012_7c2a31b2fd53level1_row4\" class=\"row_heading level1 row4\" >Lightning, Etcher of the King</th> \n",
       "        <td id=\"T_0506525c_363c_11e9_8012_7c2a31b2fd53row4_col0\" class=\"data row4 col0\" >8</td> \n",
       "        <td id=\"T_0506525c_363c_11e9_8012_7c2a31b2fd53row4_col1\" class=\"data row4 col1\" >$4.23</td> \n",
       "        <td id=\"T_0506525c_363c_11e9_8012_7c2a31b2fd53row4_col2\" class=\"data row4 col2\" >$33.84</td> \n",
       "    </tr></tbody> \n",
       "</table> "
      ],
      "text/plain": [
       "<pandas.io.formats.style.Styler at 0x22f4ff37080>"
      ]
     },
     "execution_count": 30,
     "metadata": {},
     "output_type": "execute_result"
    }
   ],
   "source": [
    "# Most Profitables\n",
    "\n",
    "Most_Profitable =Final_df.sort_values(\"Total Purchase Value\", ascending=False).head()\n",
    "Most_Profitable.style.format({\"Item Price\": \"${:.2f}\", \"Total Purchase Value\": \"${:.2f}\"})"
   ]
  }
 ],
 "metadata": {
  "anaconda-cloud": {},
  "kernel_info": {
   "name": "python3"
  },
  "kernelspec": {
   "display_name": "Python 3",
   "language": "python",
   "name": "python3"
  },
  "language_info": {
   "codemirror_mode": {
    "name": "ipython",
    "version": 3
   },
   "file_extension": ".py",
   "mimetype": "text/x-python",
   "name": "python",
   "nbconvert_exporter": "python",
   "pygments_lexer": "ipython3",
   "version": "3.7.0"
  },
  "nteract": {
   "version": "0.2.0"
  }
 },
 "nbformat": 4,
 "nbformat_minor": 2
}
